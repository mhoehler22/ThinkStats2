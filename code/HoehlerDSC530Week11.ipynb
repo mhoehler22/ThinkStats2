{
 "cells": [
  {
   "cell_type": "markdown",
   "id": "ef1fc561",
   "metadata": {},
   "source": [
    "DSC530: Week 11 \\\n",
    "11.2 Exercise \\\n",
    "Marty Hoehler \\\n",
    "5-26-24 \n",
    "\n",
    "# Exercise 13-1\n",
    "First, we'll download data and import libraries as outlined in the text.  We're bringing in both cycle 6 (2002 data) and cycle 7 (2010 data)."
   ]
  },
  {
   "cell_type": "code",
   "execution_count": 1,
   "id": "a27cba06",
   "metadata": {},
   "outputs": [],
   "source": [
    "from os.path import basename, exists\n",
    "\n",
    "\n",
    "def download(url):\n",
    "    filename = basename(url)\n",
    "    if not exists(filename):\n",
    "        from urllib.request import urlretrieve\n",
    "\n",
    "        local, _ = urlretrieve(url, filename)\n",
    "        print(\"Downloaded \" + local)\n",
    "\n",
    "\n",
    "download(\"https://github.com/AllenDowney/ThinkStats2/raw/master/code/thinkstats2.py\")\n",
    "download(\"https://github.com/AllenDowney/ThinkStats2/raw/master/code/thinkplot.py\")\n",
    "\n",
    "import thinkstats2\n",
    "import thinkplot\n",
    "\n",
    "import numpy as np\n",
    "import pandas as pd\n",
    "\n",
    "download(\"https://github.com/AllenDowney/ThinkStats2/raw/master/code/nsfg.py\")\n",
    "download(\"https://github.com/AllenDowney/ThinkStats2/raw/master/code/2002FemPreg.dct\")\n",
    "download(\n",
    "    \"https://github.com/AllenDowney/ThinkStats2/raw/master/code/2002FemPreg.dat.gz\"\n",
    ")\n",
    "\n",
    "import nsfg\n",
    "\n",
    "download(\"https://github.com/AllenDowney/ThinkStats2/raw/master/code/survival.py\")\n",
    "\n",
    "import survival\n",
    "\n",
    "download(\n",
    "    \"https://github.com/AllenDowney/ThinkStats2/raw/master/code/2006_2010_FemRespSetup.dct\"\n",
    ")\n",
    "download(\n",
    "    \"https://github.com/AllenDowney/ThinkStats2/raw/master/code/2006_2010_FemResp.dat.gz\"\n",
    ")"
   ]
  },
  {
   "cell_type": "code",
   "execution_count": 2,
   "id": "0ec6c3f2",
   "metadata": {},
   "outputs": [],
   "source": [
    "resp6 = survival.ReadFemResp2002()\n",
    "resp7 = survival.ReadFemResp2010()"
   ]
  },
  {
   "cell_type": "markdown",
   "id": "442b2a5d",
   "metadata": {},
   "source": [
    "Next, we will clean up the variables as recommended in the text.  The text also created \"agemarry\" and \"age\". \n",
    "These may be useful later, so I'll include them.\n",
    "Note:  It appears that 'cmdivorcx' needs to be cleaned the same way cmmarrhx' needs to be, removing 9997, 9998, and 9999."
   ]
  },
  {
   "cell_type": "code",
   "execution_count": 3,
   "id": "706a9ee0",
   "metadata": {},
   "outputs": [],
   "source": [
    "resp6.cmmarrhx.replace([9997, 9998, 9999], np.nan, inplace=True)\n",
    "resp6.cmdivorcx.replace([9997, 9998, 9999], np.nan, inplace=True)\n",
    "resp6[\"agemarry\"] = (resp6.cmmarrhx - resp6.cmbirth) / 12.0\n",
    "resp6[\"age\"] = (resp6.cmintvw - resp6.cmbirth) / 12.0\n",
    "\n",
    "resp7.cmmarrhx.replace([9997, 9998, 9999], np.nan, inplace=True)\n",
    "resp7.cmdivorcx.replace([9997, 9998, 9999], np.nan, inplace=True)\n",
    "resp7[\"agemarry\"] = (resp7.cmmarrhx - resp7.cmbirth) / 12.0\n",
    "resp7[\"age\"] = (resp7.cmintvw - resp7.cmbirth) / 12.0"
   ]
  },
  {
   "cell_type": "markdown",
   "id": "c6803d70",
   "metadata": {},
   "source": [
    "Next, we'll calculate the duration of the marriages.  If a divorce didn't occur, we'll calculate the length of the marriage as of the date of the interview.\n",
    "(Source for \"np.where\" function:  https://stackoverflow.com/questions/19913659/how-do-i-create-a-new-column-where-the-values-are-selected-based-on-existing-col)"
   ]
  },
  {
   "cell_type": "code",
   "execution_count": 4,
   "id": "6e581693",
   "metadata": {},
   "outputs": [],
   "source": [
    "resp6[\"divorced\"] = -resp6['cmdivorcx'].isna()\n",
    "resp7[\"divorced\"] = -resp7['cmdivorcx'].isna()\n",
    "\n",
    "resp6[\"marrdur\"] = np.where(resp6['divorced'] == True, \n",
    "                            (resp6.cmdivorcx - resp6.cmmarrhx)/12.0, (resp6.cmintvw - resp6.cmmarrhx)/12.0) \n",
    "\n",
    "resp7[\"marrdur\"] = np.where(resp7['divorced'] == True, \n",
    "                            (resp7.cmdivorcx - resp7.cmmarrhx)/12.0, (resp7.cmintvw - resp7.cmmarrhx)/12.0)"
   ]
  },
  {
   "cell_type": "markdown",
   "id": "a3a3d1e8",
   "metadata": {
    "scrolled": false
   },
   "source": [
    "Since we are studying the length of marriages, we will filter the dataframe to only those respondants who have married.\n",
    "We'll also concatenate the two datasets together.\n",
    "(Concat() source:  https://pandas.pydata.org/docs/user_guide/merging.html)\n",
    "\n",
    "#### Note:\n",
    "It appears that there are some cases where 'evrmarry' is true, but there is no marriage date.  This causes errors in our marriage duration caculation, so we'll also remove lines where 'cmmarrhx' is NaN.\n",
    "\n",
    "It also appears that there are some cases where the date of divorce is earlier than the date of marriage.  Since this doesn't make sense, we'll remove those as well."
   ]
  },
  {
   "cell_type": "code",
   "execution_count": 5,
   "id": "2fca8d51",
   "metadata": {
    "scrolled": false
   },
   "outputs": [
    {
     "data": {
      "text/html": [
       "<div>\n",
       "<style scoped>\n",
       "    .dataframe tbody tr th:only-of-type {\n",
       "        vertical-align: middle;\n",
       "    }\n",
       "\n",
       "    .dataframe tbody tr th {\n",
       "        vertical-align: top;\n",
       "    }\n",
       "\n",
       "    .dataframe thead th {\n",
       "        text-align: right;\n",
       "    }\n",
       "</style>\n",
       "<table border=\"1\" class=\"dataframe\">\n",
       "  <thead>\n",
       "    <tr style=\"text-align: right;\">\n",
       "      <th></th>\n",
       "      <th>caseid</th>\n",
       "      <th>cmbirth</th>\n",
       "      <th>evrmarry</th>\n",
       "      <th>cmmarrhx</th>\n",
       "      <th>cmdivorcx</th>\n",
       "      <th>parity</th>\n",
       "      <th>finalwgt</th>\n",
       "      <th>cmintvw</th>\n",
       "      <th>agemarry</th>\n",
       "      <th>age</th>\n",
       "      <th>year</th>\n",
       "      <th>decade</th>\n",
       "      <th>fives</th>\n",
       "      <th>divorced</th>\n",
       "      <th>marrdur</th>\n",
       "      <th>wgtq1q16</th>\n",
       "    </tr>\n",
       "  </thead>\n",
       "  <tbody>\n",
       "    <tr>\n",
       "      <th>0</th>\n",
       "      <td>5012</td>\n",
       "      <td>718</td>\n",
       "      <td>True</td>\n",
       "      <td>974.0</td>\n",
       "      <td>1077.0</td>\n",
       "      <td>1</td>\n",
       "      <td>4744.191350</td>\n",
       "      <td>1233</td>\n",
       "      <td>21.333333</td>\n",
       "      <td>42.916667</td>\n",
       "      <td>59</td>\n",
       "      <td>5</td>\n",
       "      <td>11</td>\n",
       "      <td>True</td>\n",
       "      <td>8.583333</td>\n",
       "      <td>NaN</td>\n",
       "    </tr>\n",
       "    <tr>\n",
       "      <th>1</th>\n",
       "      <td>11586</td>\n",
       "      <td>708</td>\n",
       "      <td>True</td>\n",
       "      <td>910.0</td>\n",
       "      <td>938.0</td>\n",
       "      <td>1</td>\n",
       "      <td>4744.191350</td>\n",
       "      <td>1234</td>\n",
       "      <td>16.833333</td>\n",
       "      <td>43.833333</td>\n",
       "      <td>58</td>\n",
       "      <td>5</td>\n",
       "      <td>11</td>\n",
       "      <td>True</td>\n",
       "      <td>2.333333</td>\n",
       "      <td>NaN</td>\n",
       "    </tr>\n",
       "    <tr>\n",
       "      <th>2</th>\n",
       "      <td>11700</td>\n",
       "      <td>822</td>\n",
       "      <td>True</td>\n",
       "      <td>1015.0</td>\n",
       "      <td>1051.0</td>\n",
       "      <td>2</td>\n",
       "      <td>4666.559600</td>\n",
       "      <td>1236</td>\n",
       "      <td>16.083333</td>\n",
       "      <td>34.500000</td>\n",
       "      <td>68</td>\n",
       "      <td>6</td>\n",
       "      <td>13</td>\n",
       "      <td>True</td>\n",
       "      <td>3.000000</td>\n",
       "      <td>NaN</td>\n",
       "    </tr>\n",
       "    <tr>\n",
       "      <th>3</th>\n",
       "      <td>7354</td>\n",
       "      <td>896</td>\n",
       "      <td>True</td>\n",
       "      <td>1071.0</td>\n",
       "      <td>1178.0</td>\n",
       "      <td>5</td>\n",
       "      <td>3026.730179</td>\n",
       "      <td>1235</td>\n",
       "      <td>14.583333</td>\n",
       "      <td>28.250000</td>\n",
       "      <td>74</td>\n",
       "      <td>7</td>\n",
       "      <td>14</td>\n",
       "      <td>True</td>\n",
       "      <td>8.916667</td>\n",
       "      <td>NaN</td>\n",
       "    </tr>\n",
       "    <tr>\n",
       "      <th>4</th>\n",
       "      <td>5083</td>\n",
       "      <td>789</td>\n",
       "      <td>True</td>\n",
       "      <td>1064.0</td>\n",
       "      <td>1168.0</td>\n",
       "      <td>2</td>\n",
       "      <td>3374.535218</td>\n",
       "      <td>1236</td>\n",
       "      <td>22.916667</td>\n",
       "      <td>37.250000</td>\n",
       "      <td>65</td>\n",
       "      <td>6</td>\n",
       "      <td>13</td>\n",
       "      <td>True</td>\n",
       "      <td>8.666667</td>\n",
       "      <td>NaN</td>\n",
       "    </tr>\n",
       "    <tr>\n",
       "      <th>...</th>\n",
       "      <td>...</td>\n",
       "      <td>...</td>\n",
       "      <td>...</td>\n",
       "      <td>...</td>\n",
       "      <td>...</td>\n",
       "      <td>...</td>\n",
       "      <td>...</td>\n",
       "      <td>...</td>\n",
       "      <td>...</td>\n",
       "      <td>...</td>\n",
       "      <td>...</td>\n",
       "      <td>...</td>\n",
       "      <td>...</td>\n",
       "      <td>...</td>\n",
       "      <td>...</td>\n",
       "      <td>...</td>\n",
       "    </tr>\n",
       "    <tr>\n",
       "      <th>9595</th>\n",
       "      <td>26745</td>\n",
       "      <td>812</td>\n",
       "      <td>True</td>\n",
       "      <td>1155.0</td>\n",
       "      <td>NaN</td>\n",
       "      <td>2</td>\n",
       "      <td>5220.893454</td>\n",
       "      <td>1282</td>\n",
       "      <td>28.583333</td>\n",
       "      <td>39.166667</td>\n",
       "      <td>67</td>\n",
       "      <td>6</td>\n",
       "      <td>13</td>\n",
       "      <td>False</td>\n",
       "      <td>10.583333</td>\n",
       "      <td>5220.893454</td>\n",
       "    </tr>\n",
       "    <tr>\n",
       "      <th>9596</th>\n",
       "      <td>26914</td>\n",
       "      <td>985</td>\n",
       "      <td>True</td>\n",
       "      <td>1221.0</td>\n",
       "      <td>NaN</td>\n",
       "      <td>2</td>\n",
       "      <td>5152.498030</td>\n",
       "      <td>1282</td>\n",
       "      <td>19.666667</td>\n",
       "      <td>24.750000</td>\n",
       "      <td>82</td>\n",
       "      <td>8</td>\n",
       "      <td>16</td>\n",
       "      <td>False</td>\n",
       "      <td>5.083333</td>\n",
       "      <td>5152.498030</td>\n",
       "    </tr>\n",
       "    <tr>\n",
       "      <th>9597</th>\n",
       "      <td>30517</td>\n",
       "      <td>810</td>\n",
       "      <td>True</td>\n",
       "      <td>1107.0</td>\n",
       "      <td>NaN</td>\n",
       "      <td>3</td>\n",
       "      <td>2830.681441</td>\n",
       "      <td>1282</td>\n",
       "      <td>24.750000</td>\n",
       "      <td>39.333333</td>\n",
       "      <td>67</td>\n",
       "      <td>6</td>\n",
       "      <td>13</td>\n",
       "      <td>False</td>\n",
       "      <td>14.583333</td>\n",
       "      <td>2830.681441</td>\n",
       "    </tr>\n",
       "    <tr>\n",
       "      <th>9598</th>\n",
       "      <td>26372</td>\n",
       "      <td>771</td>\n",
       "      <td>True</td>\n",
       "      <td>1025.0</td>\n",
       "      <td>NaN</td>\n",
       "      <td>4</td>\n",
       "      <td>19328.779624</td>\n",
       "      <td>1286</td>\n",
       "      <td>21.166667</td>\n",
       "      <td>42.916667</td>\n",
       "      <td>64</td>\n",
       "      <td>6</td>\n",
       "      <td>12</td>\n",
       "      <td>False</td>\n",
       "      <td>21.750000</td>\n",
       "      <td>19328.779624</td>\n",
       "    </tr>\n",
       "    <tr>\n",
       "      <th>9599</th>\n",
       "      <td>29718</td>\n",
       "      <td>977</td>\n",
       "      <td>True</td>\n",
       "      <td>1210.0</td>\n",
       "      <td>NaN</td>\n",
       "      <td>3</td>\n",
       "      <td>4876.196382</td>\n",
       "      <td>1282</td>\n",
       "      <td>19.416667</td>\n",
       "      <td>25.416667</td>\n",
       "      <td>81</td>\n",
       "      <td>8</td>\n",
       "      <td>16</td>\n",
       "      <td>False</td>\n",
       "      <td>6.000000</td>\n",
       "      <td>4876.196382</td>\n",
       "    </tr>\n",
       "  </tbody>\n",
       "</table>\n",
       "<p>9600 rows × 16 columns</p>\n",
       "</div>"
      ],
      "text/plain": [
       "      caseid  cmbirth  evrmarry  cmmarrhx  cmdivorcx  parity      finalwgt  \\\n",
       "0       5012      718      True     974.0     1077.0       1   4744.191350   \n",
       "1      11586      708      True     910.0      938.0       1   4744.191350   \n",
       "2      11700      822      True    1015.0     1051.0       2   4666.559600   \n",
       "3       7354      896      True    1071.0     1178.0       5   3026.730179   \n",
       "4       5083      789      True    1064.0     1168.0       2   3374.535218   \n",
       "...      ...      ...       ...       ...        ...     ...           ...   \n",
       "9595   26745      812      True    1155.0        NaN       2   5220.893454   \n",
       "9596   26914      985      True    1221.0        NaN       2   5152.498030   \n",
       "9597   30517      810      True    1107.0        NaN       3   2830.681441   \n",
       "9598   26372      771      True    1025.0        NaN       4  19328.779624   \n",
       "9599   29718      977      True    1210.0        NaN       3   4876.196382   \n",
       "\n",
       "      cmintvw   agemarry        age  year  decade  fives  divorced    marrdur  \\\n",
       "0        1233  21.333333  42.916667    59       5     11      True   8.583333   \n",
       "1        1234  16.833333  43.833333    58       5     11      True   2.333333   \n",
       "2        1236  16.083333  34.500000    68       6     13      True   3.000000   \n",
       "3        1235  14.583333  28.250000    74       7     14      True   8.916667   \n",
       "4        1236  22.916667  37.250000    65       6     13      True   8.666667   \n",
       "...       ...        ...        ...   ...     ...    ...       ...        ...   \n",
       "9595     1282  28.583333  39.166667    67       6     13     False  10.583333   \n",
       "9596     1282  19.666667  24.750000    82       8     16     False   5.083333   \n",
       "9597     1282  24.750000  39.333333    67       6     13     False  14.583333   \n",
       "9598     1286  21.166667  42.916667    64       6     12     False  21.750000   \n",
       "9599     1282  19.416667  25.416667    81       8     16     False   6.000000   \n",
       "\n",
       "          wgtq1q16  \n",
       "0              NaN  \n",
       "1              NaN  \n",
       "2              NaN  \n",
       "3              NaN  \n",
       "4              NaN  \n",
       "...            ...  \n",
       "9595   5220.893454  \n",
       "9596   5152.498030  \n",
       "9597   2830.681441  \n",
       "9598  19328.779624  \n",
       "9599   4876.196382  \n",
       "\n",
       "[9600 rows x 16 columns]"
      ]
     },
     "execution_count": 5,
     "metadata": {},
     "output_type": "execute_result"
    }
   ],
   "source": [
    "resp6mar = resp6[resp6['evrmarry']==True]\n",
    "resp7mar = resp7[resp7['evrmarry']==True]\n",
    "resp6mar = resp6mar[resp6mar['cmmarrhx'].isna() == False]\n",
    "resp7mar = resp7mar[resp7mar['cmmarrhx'].isna() == False]\n",
    "\n",
    "resp6marD = resp6mar[(resp6mar['cmdivorcx']- resp6mar['cmmarrhx']) >= 0]  \n",
    "resp6marM = resp6mar[resp6mar['divorced'] == False]\n",
    "resp7marD = resp7mar[resp7mar['cmdivorcx']- resp7mar['cmmarrhx'] >= 0]\n",
    "resp7marM = resp7mar[resp7mar['divorced'] == False]\n",
    "\n",
    "\n",
    "resps = pd.concat([resp6marD, resp6marM, resp7marD, resp7marM], ignore_index=True)\n",
    "\n",
    "resps"
   ]
  },
  {
   "cell_type": "markdown",
   "id": "8a128fdf",
   "metadata": {},
   "source": [
    "#### Define Functions\n",
    "We will use the text's definition for EstimateHazard()."
   ]
  },
  {
   "cell_type": "code",
   "execution_count": 6,
   "id": "8adf1f84",
   "metadata": {},
   "outputs": [],
   "source": [
    "from collections import Counter\n",
    "\n",
    "\n",
    "def EstimateHazardFunction(complete, ongoing, label=\"\", verbose=False):\n",
    "    \"\"\"Estimates the hazard function by Kaplan-Meier.\n",
    "\n",
    "    http://en.wikipedia.org/wiki/Kaplan%E2%80%93Meier_estimator\n",
    "\n",
    "    complete: list of complete lifetimes\n",
    "    ongoing: list of ongoing lifetimes\n",
    "    label: string\n",
    "    verbose: whether to display intermediate results\n",
    "    \"\"\"\n",
    "    if np.sum(np.isnan(complete)):\n",
    "        raise ValueError(\"complete contains NaNs\")\n",
    "    if np.sum(np.isnan(ongoing)):\n",
    "        raise ValueError(\"ongoing contains NaNs\")\n",
    "\n",
    "    hist_complete = Counter(complete)\n",
    "    hist_ongoing = Counter(ongoing)\n",
    "\n",
    "    ts = list(hist_complete | hist_ongoing)\n",
    "    ts.sort()\n",
    "\n",
    "    at_risk = len(complete) + len(ongoing)\n",
    "\n",
    "    lams = pd.Series(index=ts, dtype=float)\n",
    "    for t in ts:\n",
    "        ended = hist_complete[t]\n",
    "        censored = hist_ongoing[t]\n",
    "\n",
    "        lams[t] = ended / at_risk\n",
    "        if verbose:\n",
    "            print(t, at_risk, ended, censored, lams[t])\n",
    "        at_risk -= ended + censored\n",
    "\n",
    "    return survival.HazardFunction(lams, label=label)\n",
    " "
   ]
  },
  {
   "cell_type": "markdown",
   "id": "60cf2a3e",
   "metadata": {},
   "source": [
    "Next, we define the \"complete\" and \"ongoing\" sets.  \n",
    "- \"Complete\" is the duration for those who are divorced.\n",
    "- \"Ongoing\" is the duration for those who are still married."
   ]
  },
  {
   "cell_type": "code",
   "execution_count": 7,
   "id": "73aa947e",
   "metadata": {},
   "outputs": [],
   "source": [
    "complete = resps[resps.divorced==True].marrdur\n",
    "ongoing = resps[resps.divorced==False].marrdur\n",
    "\n",
    "hf = EstimateHazardFunction(complete, ongoing)"
   ]
  },
  {
   "cell_type": "code",
   "execution_count": 8,
   "id": "8bd907e6",
   "metadata": {
    "scrolled": true
   },
   "outputs": [
    {
     "data": {
      "image/png": "[encoded data removed]",
      "text/plain": [
       "<Figure size 432x288 with 1 Axes>"
      ]
     },
     "metadata": {
      "needs_background": "light"
     },
     "output_type": "display_data"
    }
   ],
   "source": [
    "thinkplot.Plot(hf)\n",
    "thinkplot.Config(xlabel=\"Marriage duration (years)\", ylabel=\"Hazard\")"
   ]
  },
  {
   "cell_type": "markdown",
   "id": "48cc9b76",
   "metadata": {},
   "source": [
    "Our text mentions that the hazard function can get over-estimated at the tail end, where there is less data available.  In this case, there are fewer respondants that have been married 25 or more years.  (It's rare for someone in a relationship that long to still be young enough to become pregnant.)  So the hazard function gets noisy at this area."
   ]
  },
  {
   "cell_type": "code",
   "execution_count": 9,
   "id": "81c50e58",
   "metadata": {
    "scrolled": true
   },
   "outputs": [
    {
     "data": {
      "image/png": "[encoded data removed]",
      "text/plain": [
       "<Figure size 432x288 with 1 Axes>"
      ]
     },
     "metadata": {
      "needs_background": "light"
     },
     "output_type": "display_data"
    }
   ],
   "source": [
    "sf = hf.MakeSurvival()\n",
    "thinkplot.Plot(sf)\n",
    "thinkplot.Config(xlabel=\"Marriage Duration (years)\", ylabel=\"Marriage Survival\", ylim=[0, 1])"
   ]
  },
  {
   "cell_type": "markdown",
   "id": "4b23989c",
   "metadata": {},
   "source": [
    "According to this survival function, marriages end at a fairly steady rate, but are slightly more likely between years 1-5."
   ]
  },
  {
   "cell_type": "markdown",
   "id": "92ec757b",
   "metadata": {},
   "source": [
    "### Resampling\n",
    "\n",
    "We will use the text's ResampleSurvival() formula to resample the data to account for sampling error.  It needs to be adjusted slightly to use our 'marrdur' field instead of the 'agemarry' stat used in the book."
   ]
  },
  {
   "cell_type": "code",
   "execution_count": 10,
   "id": "9df0abd1",
   "metadata": {},
   "outputs": [],
   "source": [
    "def ResampleSurvival(resp, iters=101):\n",
    "    \"\"\"Resamples respondents and estimates the survival function.\n",
    "\n",
    "    resp: DataFrame of respondents\n",
    "    iters: number of resamples\n",
    "    \"\"\"\n",
    "    _, sf = EstimateMarriageSurvival(resp)\n",
    "    thinkplot.Plot(sf)\n",
    "\n",
    "    low, high = resp.marrdur.min(), resp.marrdur.max()\n",
    "    ts = np.arange(low, high, 1 / 12.0)\n",
    "\n",
    "    ss_seq = []\n",
    "    for _ in range(iters):\n",
    "        sample = thinkstats2.ResampleRowsWeighted(resp)\n",
    "        _, sf = EstimateMarriageSurvival(sample)\n",
    "        ss_seq.append(sf.Probs(ts))\n",
    "\n",
    "    low, high = thinkstats2.PercentileRows(ss_seq, [5, 95])\n",
    "    thinkplot.FillBetween(ts, low, high, color=\"gray\", label=\"90% CI\")\n",
    "    \n",
    "def EstimateMarriageSurvival(resp):\n",
    "    \"\"\"Estimates the survival curve.\n",
    "\n",
    "    resp: DataFrame of respondents\n",
    "\n",
    "    returns: pair of HazardFunction, SurvivalFunction\n",
    "    \"\"\"\n",
    "    complete = resp[resp.divorced==True].marrdur\n",
    "    ongoing = resp[resp.divorced==False].marrdur\n",
    "\n",
    "    hf = EstimateHazardFunction(complete, ongoing)\n",
    "    sf = hf.MakeSurvival()\n",
    "\n",
    "    return hf, sf"
   ]
  },
  {
   "cell_type": "code",
   "execution_count": 11,
   "id": "a24c0987",
   "metadata": {
    "scrolled": true
   },
   "outputs": [
    {
     "data": {
      "image/png": "[encoded data removed]",
      "text/plain": [
       "<Figure size 432x288 with 1 Axes>"
      ]
     },
     "metadata": {
      "needs_background": "light"
     },
     "output_type": "display_data"
    }
   ],
   "source": [
    "ResampleSurvival(resps)\n",
    "thinkplot.Config(\n",
    "    xlabel=\"Duration (years)\",\n",
    "    ylabel=\"Marriage Survival\",\n",
    "    xlim=[0, 30],\n",
    "    ylim=[0, 1],\n",
    "    loc=\"upper right\",\n",
    ")"
   ]
  },
  {
   "cell_type": "markdown",
   "id": "26ffb7c0",
   "metadata": {},
   "source": [
    "This shows that the raw data is outside of the 90% confidence interval of the resampled data, which indicates that sampling error is having a strong effect on the results."
   ]
  },
  {
   "cell_type": "markdown",
   "id": "2a6d78b6",
   "metadata": {},
   "source": [
    "### Cohort Analysis\n",
    "\n",
    "We will split our data into cohorts by decade of birth to see if marriage duration trends change throughout the generations.  We will addapt the formulas provided as examples in the book.  \n",
    "\n",
    "#### Note:  \n",
    "When the book is talking about \"marriage survival\" it means a survival funcion of how long a person remains unmarried... \"surviving the state of being married\".  In our work, we are studying the survival of the marriage itself.  So although the underlying statistic has changed, there's not a strong need to change the terminology, as long as we're clear what we mean by \"marriage survival\"."
   ]
  },
  {
   "cell_type": "code",
   "execution_count": 12,
   "id": "c0a1e84f",
   "metadata": {},
   "outputs": [],
   "source": [
    "def AddLabelsByDecade(groups, **options):\n",
    "    \"\"\"Draws fake points in order to add labels to the legend.\n",
    "\n",
    "    groups: GroupBy object\n",
    "    \"\"\"\n",
    "    thinkplot.PrePlot(len(groups))\n",
    "    for name, _ in groups:\n",
    "        label = \"%d0s\" % name\n",
    "        thinkplot.Plot([15], [1], label=label, **options)\n",
    "\n",
    "\n",
    "def EstimateMarriageSurvivalByDecade(groups, **options):\n",
    "    \"\"\"Groups respondents by decade and plots survival curves.\n",
    "\n",
    "    groups: GroupBy object\n",
    "    \"\"\"\n",
    "    thinkplot.PrePlot(len(groups))\n",
    "    for name, group in groups:\n",
    "        _, sf = EstimateMarriageSurvival(group)\n",
    "        thinkplot.Plot(sf, **options)\n",
    "\n",
    "\n",
    "def PlotResampledByDecade(resps, iters=11, predict_flag=False, omit=None):\n",
    "    \"\"\"Plots survival curves for resampled data.\n",
    "\n",
    "    resps: list of DataFrames\n",
    "    iters: number of resamples to plot\n",
    "    predict_flag: whether to also plot predictions\n",
    "    \"\"\"\n",
    "    for i in range(iters):\n",
    "        samples = [thinkstats2.ResampleRowsWeighted(resp) for resp in resps]\n",
    "        sample = pd.concat(samples, ignore_index=True)\n",
    "        groups = sample.groupby(\"decade\")\n",
    "\n",
    "        if omit:\n",
    "            groups = [(name, group) for name, group in groups if name not in omit]\n",
    "\n",
    "        # TODO: refactor this to collect resampled estimates and\n",
    "        # plot shaded areas\n",
    "        if i == 0:\n",
    "            AddLabelsByDecade(groups, alpha=0.7)\n",
    "\n",
    "        if predict_flag:\n",
    "            PlotPredictionsByDecade(groups, alpha=0.1)\n",
    "            EstimateMarriageSurvivalByDecade(groups, alpha=0.1)\n",
    "        else:\n",
    "            EstimateMarriageSurvivalByDecade(groups, alpha=0.2)\n",
    "            \n",
    "def PlotPredictionsByDecade(groups, **options):\n",
    "    \"\"\"Groups respondents by decade and plots survival curves.\n",
    "\n",
    "    groups: GroupBy object\n",
    "    \"\"\"\n",
    "    hfs = []\n",
    "    for _, group in groups:\n",
    "        hf, sf = EstimateMarriageSurvival(group)\n",
    "        hfs.append(hf)\n",
    "\n",
    "    thinkplot.PrePlot(len(hfs))\n",
    "    for i, hf in enumerate(hfs):\n",
    "        if i > 0:\n",
    "            hf.Extend(hfs[i - 1])\n",
    "        sf = hf.MakeSurvival()\n",
    "        thinkplot.Plot(sf, **options)"
   ]
  },
  {
   "cell_type": "markdown",
   "id": "3e930e3d",
   "metadata": {},
   "source": [
    "This code requires that the index be maintained, so the concatenation I did above for \"resps\" won't work.  Instead, I'll create \"respsList\" which is a list of the four separate DFs, withe their indices intact."
   ]
  },
  {
   "cell_type": "code",
   "execution_count": 13,
   "id": "303c1157",
   "metadata": {
    "scrolled": true
   },
   "outputs": [
    {
     "data": {
      "image/png": "[encoded data removed]",
      "text/plain": [
       "<Figure size 432x288 with 1 Axes>"
      ]
     },
     "metadata": {
      "needs_background": "light"
     },
     "output_type": "display_data"
    }
   ],
   "source": [
    "respsList = [resp6marD, resp6marM, resp7marD, resp7marM]\n",
    "\n",
    "PlotResampledByDecade(respsList, predict_flag=True)\n",
    "thinkplot.Config(\n",
    "    xlabel=\"Duration (years)\", ylabel=\"Marriage Survival\", xlim=[0, 30], ylim=[0, 1]\n",
    ")"
   ]
  },
  {
   "cell_type": "markdown",
   "id": "596d8084",
   "metadata": {},
   "source": [
    "Our code predicts how younger generations behave based on what the older generations did.  Even with that understanding, we see that older generations had a higher Marriage Survival rate."
   ]
  }
 ],
 "metadata": {
  "kernelspec": {
   "display_name": "Python 3",
   "language": "python",
   "name": "python3"
  },
  "language_info": {
   "codemirror_mode": {
    "name": "ipython",
    "version": 3
   },
   "file_extension": ".py",
   "mimetype": "text/x-python",
   "name": "python",
   "nbconvert_exporter": "python",
   "pygments_lexer": "ipython3",
   "version": "3.8.8"
  }
 },
 "nbformat": 4,
 "nbformat_minor": 5
}
