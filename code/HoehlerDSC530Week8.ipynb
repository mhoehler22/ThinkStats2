{
 "cells": [
  {
   "cell_type": "markdown",
   "id": "cb2d4411",
   "metadata": {},
   "source": [
    "* DSC530: Week 8\n",
    "* 8.2 Exercise\n",
    "* Marty Hoehler\n",
    "* 5-5-24\n",
    "\n",
    "# Exercise 9-1\n",
    "\n",
    "First, we'll download data and import libraries as in weeks prior."
   ]
  },
  {
   "cell_type": "code",
   "execution_count": 1,
   "id": "624144a0",
   "metadata": {},
   "outputs": [],
   "source": [
    "import numpy as np\n",
    "\n",
    "from os.path import basename, exists\n",
    "\n",
    "def download(url):\n",
    "    filename = basename(url)\n",
    "    if not exists(filename):\n",
    "        from urllib.request import urlretrieve\n",
    "\n",
    "        local, _ = urlretrieve(url, filename)\n",
    "        print(\"Downloaded \" + local)\n",
    "\n",
    "download(\"https://github.com/AllenDowney/ThinkStats2/raw/master/code/thinkstats2.py\")\n",
    "download(\"https://github.com/AllenDowney/ThinkStats2/raw/master/code/thinkplot.py\")\n",
    "download(\"https://github.com/AllenDowney/ThinkStats2/raw/master/code/nsfg.py\")\n",
    "download(\"https://github.com/AllenDowney/ThinkStats2/raw/master/code/scatter.py\")\n",
    "download(\"https://github.com/AllenDowney/ThinkStats2/raw/master/code/2002FemPreg.dct\")\n",
    "download(\"https://github.com/AllenDowney/ThinkStats2/raw/master/code/2002FemPreg.dat.gz\")\n",
    "download(\"https://github.com/AllenDowney/ThinkStats2/raw/master/code/first.py\")\n",
    "\n",
    "import nsfg\n",
    "import thinkstats2\n",
    "import thinkplot\n",
    "import first"
   ]
  },
  {
   "cell_type": "markdown",
   "id": "2afd0fd1",
   "metadata": {},
   "source": [
    "In the text, they did two \"difference in Means\" tests, (one for the length of pregnancy, and one for the birth weight.)  They also did a correlation test between mother age and total weight and a Chi-Squared test of pregnancy length.  First, we'll bring in the classes from the text.  "
   ]
  },
  {
   "cell_type": "code",
   "execution_count": 16,
   "id": "9d162b23",
   "metadata": {},
   "outputs": [],
   "source": [
    "class DiffMeansPermute(thinkstats2.HypothesisTest):\n",
    "\n",
    "    def TestStatistic(self, data):\n",
    "        group1, group2 = data\n",
    "        test_stat = abs(group1.mean() - group2.mean())\n",
    "        return test_stat\n",
    "\n",
    "    def MakeModel(self):\n",
    "        group1, group2 = self.data\n",
    "        self.n, self.m = len(group1), len(group2)\n",
    "        self.pool = np.hstack((group1, group2))\n",
    "\n",
    "    def RunModel(self):\n",
    "        np.random.shuffle(self.pool)\n",
    "        data = self.pool[:self.n], self.pool[self.n:]\n",
    "        return data\n",
    "    \n",
    "class CorrelationPermute(thinkstats2.HypothesisTest):\n",
    "\n",
    "    def TestStatistic(self, data):\n",
    "        xs, ys = data\n",
    "        test_stat = abs(thinkstats2.Corr(xs, ys))\n",
    "        return test_stat\n",
    "\n",
    "    def RunModel(self):\n",
    "        xs, ys = self.data\n",
    "        xs = np.random.permutation(xs)\n",
    "        return xs, ys\n",
    "\n",
    "class PregLengthTest(thinkstats2.HypothesisTest):\n",
    "\n",
    "    def MakeModel(self):\n",
    "        firsts, others = self.data\n",
    "        self.n = len(firsts)\n",
    "        self.pool = np.hstack((firsts, others))\n",
    "\n",
    "        pmf = thinkstats2.Pmf(self.pool)\n",
    "        self.values = range(35, 44)\n",
    "        self.expected_probs = np.array(pmf.Probs(self.values))\n",
    "\n",
    "    def RunModel(self):\n",
    "        np.random.shuffle(self.pool)\n",
    "        data = self.pool[:self.n], self.pool[self.n:]\n",
    "        return data\n",
    "    \n",
    "    def TestStatistic(self, data):\n",
    "        firsts, others = data\n",
    "        stat = self.ChiSquared(firsts) + self.ChiSquared(others)\n",
    "        return stat\n",
    "\n",
    "    def ChiSquared(self, lengths):\n",
    "        hist = thinkstats2.Hist(lengths)\n",
    "        observed = np.array(hist.Freqs(self.values))\n",
    "        expected = self.expected_probs * len(lengths)\n",
    "        stat = sum((observed - expected)**2 / expected)\n",
    "        return stat"
   ]
  },
  {
   "cell_type": "code",
   "execution_count": 18,
   "id": "fa74498a",
   "metadata": {},
   "outputs": [],
   "source": [
    "def p_test(live):\n",
    "\n",
    "    live, firsts, others = first.MakeFrames()\n",
    "    data = firsts.prglngth.values, others.prglngth.values\n",
    "    ht = DiffMeansPermute(data)\n",
    "    pvalue1 = ht.PValue()\n",
    "    \n",
    "    data2 = firsts.totalwgt_lb.values, others.totalwgt_lb.values\n",
    "    ht2 = DiffMeansPermute(data2)\n",
    "    pvalue2 = ht2.PValue()\n",
    "    \n",
    "    cleaned = live.dropna(subset=['agepreg', 'totalwgt_lb'])\n",
    "    data3 = cleaned.agepreg.values, cleaned.totalwgt_lb.values\n",
    "    ht3 = CorrelationPermute(data3)\n",
    "    pvalue3 = ht3.PValue()\n",
    "    \n",
    "    print(pvalue1, pvalue2, pvalue3)\n",
    "    "
   ]
  },
  {
   "cell_type": "markdown",
   "id": "b059ee8c",
   "metadata": {},
   "source": [
    "Next, we'll find the p-values with the full sample. "
   ]
  },
  {
   "cell_type": "code",
   "execution_count": 19,
   "id": "283d393e",
   "metadata": {},
   "outputs": [
    {
     "name": "stdout",
     "output_type": "stream",
     "text": [
      "0.16 0.0\n"
     ]
    }
   ],
   "source": [
    "p_test()\n"
   ]
  }
 ],
 "metadata": {
  "kernelspec": {
   "display_name": "Python 3",
   "language": "python",
   "name": "python3"
  },
  "language_info": {
   "codemirror_mode": {
    "name": "ipython",
    "version": 3
   },
   "file_extension": ".py",
   "mimetype": "text/x-python",
   "name": "python",
   "nbconvert_exporter": "python",
   "pygments_lexer": "ipython3",
   "version": "3.8.8"
  }
 },
 "nbformat": 4,
 "nbformat_minor": 5
}
