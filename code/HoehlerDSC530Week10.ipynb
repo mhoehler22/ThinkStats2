{
 "cells": [
  {
   "cell_type": "markdown",
   "id": "d9d6b709",
   "metadata": {},
   "source": [
    "DSC530: Week 10\\\n",
    "10.2 Exercise\\\n",
    "Marty Hoehler\\\n",
    "5-19-24\n",
    "\n",
    "# Exercise 12-1\n",
    "\n",
    "First, we'll download data and import libraries as outlined in the text."
   ]
  },
  {
   "cell_type": "code",
   "execution_count": 1,
   "id": "61a4d644",
   "metadata": {},
   "outputs": [],
   "source": [
    "from os.path import basename, exists\n",
    "\n",
    "\n",
    "def download(url):\n",
    "    filename = basename(url)\n",
    "    if not exists(filename):\n",
    "        from urllib.request import urlretrieve\n",
    "\n",
    "        local, _ = urlretrieve(url, filename)\n",
    "        print(\"Downloaded \" + local)\n",
    "\n",
    "\n",
    "download(\"https://github.com/AllenDowney/ThinkStats2/raw/master/code/thinkstats2.py\")\n",
    "download(\"https://github.com/AllenDowney/ThinkStats2/raw/master/code/thinkplot.py\")"
   ]
  },
  {
   "cell_type": "code",
   "execution_count": 2,
   "id": "eafad07f",
   "metadata": {},
   "outputs": [],
   "source": [
    "import numpy as np\n",
    "import pandas as pd\n",
    "import random\n",
    "\n",
    "import thinkstats2\n",
    "import thinkplot"
   ]
  },
  {
   "cell_type": "markdown",
   "id": "9fa7d8ea",
   "metadata": {},
   "source": [
    "##### Download Data\n",
    "Download the .csv as \"transactions.\""
   ]
  },
  {
   "cell_type": "code",
   "execution_count": 3,
   "id": "69cf0f00",
   "metadata": {},
   "outputs": [],
   "source": [
    "download(\"https://github.com/AllenDowney/ThinkStats2/raw/master/code/mj-clean.csv\")\n",
    "transactions = pd.read_csv(\"mj-clean.csv\", parse_dates=[5])"
   ]
  },
  {
   "cell_type": "markdown",
   "id": "b248f241",
   "metadata": {},
   "source": [
    "##### Formulas: GroupByDay() and GroupByQualityAndDay()\n",
    "From the text, we use two formulas:\n",
    "- first, to pull the \"date\" and \"ppg\" field from the table, and group by \"date\".  \n",
    "-- It makes a fractional \"date\" field for a decimal value of years since the start date.\n",
    "- second, to divide the grouped data frame by quality"
   ]
  },
  {
   "cell_type": "code",
   "execution_count": 4,
   "id": "3b1af4d0",
   "metadata": {},
   "outputs": [],
   "source": [
    "def GroupByDay(transactions, func=np.mean):\n",
    "    \"\"\"Groups transactions by day and compute the daily mean ppg.\n",
    "\n",
    "    transactions: DataFrame of transactions\n",
    "\n",
    "    returns: DataFrame of daily prices\n",
    "    \"\"\"\n",
    "    grouped = transactions[[\"date\", \"ppg\"]].groupby(\"date\")\n",
    "    daily = grouped.aggregate(func)\n",
    "\n",
    "    daily[\"date\"] = daily.index\n",
    "    start = daily.date[0]\n",
    "    one_year = np.timedelta64(1, \"Y\")\n",
    "    daily[\"years\"] = (daily.date - start) / one_year\n",
    "\n",
    "    return daily"
   ]
  },
  {
   "cell_type": "code",
   "execution_count": 5,
   "id": "16edf176",
   "metadata": {},
   "outputs": [],
   "source": [
    "def GroupByQualityAndDay(transactions):\n",
    "    \"\"\"Divides transactions by quality and computes mean daily price.\n",
    "\n",
    "    transaction: DataFrame of transactions\n",
    "\n",
    "    returns: map from quality to time series of ppg\n",
    "    \"\"\"\n",
    "    groups = transactions.groupby(\"quality\")\n",
    "    dailies = {}\n",
    "    for name, group in groups:\n",
    "        dailies[name] = GroupByDay(group)\n",
    "\n",
    "    return dailies"
   ]
  },
  {
   "cell_type": "code",
   "execution_count": 6,
   "id": "1a89379d",
   "metadata": {
    "scrolled": true
   },
   "outputs": [
    {
     "data": {
      "text/plain": [
       "{'high':                   ppg       date     years\n",
       " date                                      \n",
       " 2010-09-02  13.384186 2010-09-02  0.000000\n",
       " 2010-09-03  14.459588 2010-09-03  0.002738\n",
       " 2010-09-04  14.923333 2010-09-04  0.005476\n",
       " 2010-09-05  16.667500 2010-09-05  0.008214\n",
       " 2010-09-06  15.537500 2010-09-06  0.010952\n",
       " ...               ...        ...       ...\n",
       " 2014-05-09  11.468298 2014-05-09  3.682485\n",
       " 2014-05-10  10.532326 2014-05-10  3.685223\n",
       " 2014-05-11  11.518750 2014-05-11  3.687961\n",
       " 2014-05-12  10.578293 2014-05-12  3.690699\n",
       " 2014-05-13   9.604615 2014-05-13  3.693437\n",
       " \n",
       " [1241 rows x 3 columns],\n",
       " 'low':                   ppg       date     years\n",
       " date                                      \n",
       " 2010-09-02   4.943750 2010-09-02  0.000000\n",
       " 2010-09-03   3.984138 2010-09-03  0.002738\n",
       " 2010-09-04   3.530000 2010-09-04  0.005476\n",
       " 2010-09-10   4.240000 2010-09-10  0.021903\n",
       " 2010-09-14   6.066118 2010-09-14  0.032855\n",
       " ...               ...        ...       ...\n",
       " 2014-05-09  14.700000 2014-05-09  3.682485\n",
       " 2014-05-10  10.332857 2014-05-10  3.685223\n",
       " 2014-05-11   3.336667 2014-05-11  3.687961\n",
       " 2014-05-12   3.270000 2014-05-12  3.690699\n",
       " 2014-05-13   4.447778 2014-05-13  3.693437\n",
       " \n",
       " [1179 rows x 3 columns],\n",
       " 'medium':                   ppg       date     years\n",
       " date                                      \n",
       " 2010-09-02  11.021250 2010-09-02  0.000000\n",
       " 2010-09-03   8.055000 2010-09-03  0.002738\n",
       " 2010-09-04  16.950000 2010-09-04  0.005476\n",
       " 2010-09-05  12.005000 2010-09-05  0.008214\n",
       " 2010-09-08  16.250000 2010-09-08  0.016427\n",
       " ...               ...        ...       ...\n",
       " 2014-05-09   9.037059 2014-05-09  3.682485\n",
       " 2014-05-10   9.155686 2014-05-10  3.685223\n",
       " 2014-05-11   8.138214 2014-05-11  3.687961\n",
       " 2014-05-12   8.959655 2014-05-12  3.690699\n",
       " 2014-05-13   9.810625 2014-05-13  3.693437\n",
       " \n",
       " [1238 rows x 3 columns]}"
      ]
     },
     "execution_count": 6,
     "metadata": {},
     "output_type": "execute_result"
    }
   ],
   "source": [
    "dailies = GroupByQualityAndDay(transactions)\n",
    "dailies"
   ]
  },
  {
   "cell_type": "markdown",
   "id": "9002cac7",
   "metadata": {},
   "source": [
    "##### Quadratic Model\n",
    "For this assignment, we would like to create a quadratic model.  To do this, we need to create a squared term.\n",
    " - updating the \"RunLinearModel()\" function into a \"RunQuadraticModel()\" funcion by adding 'years2' (pg 133 in text)."
   ]
  },
  {
   "cell_type": "code",
   "execution_count": 7,
   "id": "a1a7ec04",
   "metadata": {},
   "outputs": [],
   "source": [
    "import statsmodels.formula.api as smf\n",
    "\n",
    "\n",
    "def RunQuadraticModel(daily):\n",
    "    daily['years2'] = daily.years**2\n",
    "    model = smf.ols(\"ppg ~ years + years2\", data=daily)\n",
    "    results = model.fit()\n",
    "    return model, results\n",
    "\n",
    "\n"
   ]
  },
  {
   "cell_type": "markdown",
   "id": "c32445d5",
   "metadata": {},
   "source": [
    "Next, we'll cut the dictionary down to the \"high\" values and run our quadratic formula on it."
   ]
  },
  {
   "cell_type": "code",
   "execution_count": 8,
   "id": "83af46c4",
   "metadata": {
    "scrolled": true
   },
   "outputs": [
    {
     "data": {
      "text/html": [
       "<table class=\"simpletable\">\n",
       "<caption>OLS Regression Results</caption>\n",
       "<tr>\n",
       "  <th>Dep. Variable:</th>           <td>ppg</td>       <th>  R-squared:         </th> <td>   0.455</td> \n",
       "</tr>\n",
       "<tr>\n",
       "  <th>Model:</th>                   <td>OLS</td>       <th>  Adj. R-squared:    </th> <td>   0.454</td> \n",
       "</tr>\n",
       "<tr>\n",
       "  <th>Method:</th>             <td>Least Squares</td>  <th>  F-statistic:       </th> <td>   517.5</td> \n",
       "</tr>\n",
       "<tr>\n",
       "  <th>Date:</th>             <td>Sun, 19 May 2024</td> <th>  Prob (F-statistic):</th> <td>4.57e-164</td>\n",
       "</tr>\n",
       "<tr>\n",
       "  <th>Time:</th>                 <td>12:17:05</td>     <th>  Log-Likelihood:    </th> <td> -1497.4</td> \n",
       "</tr>\n",
       "<tr>\n",
       "  <th>No. Observations:</th>      <td>  1241</td>      <th>  AIC:               </th> <td>   3001.</td> \n",
       "</tr>\n",
       "<tr>\n",
       "  <th>Df Residuals:</th>          <td>  1238</td>      <th>  BIC:               </th> <td>   3016.</td> \n",
       "</tr>\n",
       "<tr>\n",
       "  <th>Df Model:</th>              <td>     2</td>      <th>                     </th>     <td> </td>    \n",
       "</tr>\n",
       "<tr>\n",
       "  <th>Covariance Type:</th>      <td>nonrobust</td>    <th>                     </th>     <td> </td>    \n",
       "</tr>\n",
       "</table>\n",
       "<table class=\"simpletable\">\n",
       "<tr>\n",
       "      <td></td>         <th>coef</th>     <th>std err</th>      <th>t</th>      <th>P>|t|</th>  <th>[0.025</th>    <th>0.975]</th>  \n",
       "</tr>\n",
       "<tr>\n",
       "  <th>Intercept</th> <td>   13.6980</td> <td>    0.067</td> <td>  205.757</td> <td> 0.000</td> <td>   13.567</td> <td>   13.829</td>\n",
       "</tr>\n",
       "<tr>\n",
       "  <th>years</th>     <td>   -1.1171</td> <td>    0.084</td> <td>  -13.326</td> <td> 0.000</td> <td>   -1.282</td> <td>   -0.953</td>\n",
       "</tr>\n",
       "<tr>\n",
       "  <th>years2</th>    <td>    0.1132</td> <td>    0.022</td> <td>    5.060</td> <td> 0.000</td> <td>    0.069</td> <td>    0.157</td>\n",
       "</tr>\n",
       "</table>\n",
       "<table class=\"simpletable\">\n",
       "<tr>\n",
       "  <th>Omnibus:</th>       <td>49.112</td> <th>  Durbin-Watson:     </th> <td>   1.885</td>\n",
       "</tr>\n",
       "<tr>\n",
       "  <th>Prob(Omnibus):</th> <td> 0.000</td> <th>  Jarque-Bera (JB):  </th> <td> 113.885</td>\n",
       "</tr>\n",
       "<tr>\n",
       "  <th>Skew:</th>          <td> 0.199</td> <th>  Prob(JB):          </th> <td>1.86e-25</td>\n",
       "</tr>\n",
       "<tr>\n",
       "  <th>Kurtosis:</th>      <td> 4.430</td> <th>  Cond. No.          </th> <td>    27.5</td>\n",
       "</tr>\n",
       "</table><br/><br/>Notes:<br/>[1] Standard Errors assume that the covariance matrix of the errors is correctly specified."
      ],
      "text/plain": [
       "<class 'statsmodels.iolib.summary.Summary'>\n",
       "\"\"\"\n",
       "                            OLS Regression Results                            \n",
       "==============================================================================\n",
       "Dep. Variable:                    ppg   R-squared:                       0.455\n",
       "Model:                            OLS   Adj. R-squared:                  0.454\n",
       "Method:                 Least Squares   F-statistic:                     517.5\n",
       "Date:                Sun, 19 May 2024   Prob (F-statistic):          4.57e-164\n",
       "Time:                        12:17:05   Log-Likelihood:                -1497.4\n",
       "No. Observations:                1241   AIC:                             3001.\n",
       "Df Residuals:                    1238   BIC:                             3016.\n",
       "Df Model:                           2                                         \n",
       "Covariance Type:            nonrobust                                         \n",
       "==============================================================================\n",
       "                 coef    std err          t      P>|t|      [0.025      0.975]\n",
       "------------------------------------------------------------------------------\n",
       "Intercept     13.6980      0.067    205.757      0.000      13.567      13.829\n",
       "years         -1.1171      0.084    -13.326      0.000      -1.282      -0.953\n",
       "years2         0.1132      0.022      5.060      0.000       0.069       0.157\n",
       "==============================================================================\n",
       "Omnibus:                       49.112   Durbin-Watson:                   1.885\n",
       "Prob(Omnibus):                  0.000   Jarque-Bera (JB):              113.885\n",
       "Skew:                           0.199   Prob(JB):                     1.86e-25\n",
       "Kurtosis:                       4.430   Cond. No.                         27.5\n",
       "==============================================================================\n",
       "\n",
       "Notes:\n",
       "[1] Standard Errors assume that the covariance matrix of the errors is correctly specified.\n",
       "\"\"\""
      ]
     },
     "execution_count": 8,
     "metadata": {},
     "output_type": "execute_result"
    }
   ],
   "source": [
    "\n",
    "quaddata = dailies[\"high\"]\n",
    "model, results = RunQuadraticModel(quaddata)\n",
    "results.summary()"
   ]
  },
  {
   "cell_type": "markdown",
   "id": "8086c46c",
   "metadata": {},
   "source": [
    "The R-squared for this quadratic model (0.455) is an improvement over the R-squared for the linear model (0.444), and the Adj. R-Squared does not fall off very much (0.454), indicating that this model is slightly more predictive than the linear model, and the added variable years<sup>2</sup> does not detract much from that improvement.\n",
    "\n",
    "##### Plotting the Model\n",
    "Next, we'll adjust the \"PlotLinearModel()\" function from the test to plot our quadratic model instead.\n",
    "- \"PlotFittedValues()\" needs no changes from the author's text.\n",
    "- We'll add our \"RunQuaraticModel()\" formula into the \"PlotLinearModel()\" formula and call it \"Plot Quadratic Model\"."
   ]
  },
  {
   "cell_type": "code",
   "execution_count": 9,
   "id": "26c9d489",
   "metadata": {},
   "outputs": [],
   "source": [
    "def PlotFittedValues(model, results, label=\"\"):\n",
    "    \"\"\"Plots original data and fitted values.\n",
    "\n",
    "    model: StatsModel model object\n",
    "    results: StatsModel results object\n",
    "    \"\"\"\n",
    "    years = model.exog[:, 1]\n",
    "    values = model.endog\n",
    "    thinkplot.Scatter(years, values, s=15, label=label)\n",
    "    thinkplot.Plot(years, results.fittedvalues, label=\"model\", color=\"#ff7f00\")\n",
    "    \n",
    "def PlotQuadraticModel(daily, name):\n",
    "    \"\"\"Plots a quadratic fit to a sequence of prices, and the residuals.\n",
    "\n",
    "    daily: DataFrame of daily prices\n",
    "    name: string\n",
    "    \"\"\"\n",
    "    model, results = RunQuadraticModel(daily)\n",
    "    PlotFittedValues(model, results, label=name)\n",
    "    thinkplot.Config(\n",
    "        title=\"Fitted values\",\n",
    "        xlabel=\"Years\",\n",
    "        xlim=[-0.1, 3.8],\n",
    "        ylabel=\"Price per gram ($)\",\n",
    "    )"
   ]
  },
  {
   "cell_type": "code",
   "execution_count": 10,
   "id": "42b98878",
   "metadata": {
    "scrolled": true
   },
   "outputs": [
    {
     "data": {
      "image/png": "[encoded data removed]",
      "text/plain": [
       "<Figure size 432x288 with 1 Axes>"
      ]
     },
     "metadata": {
      "needs_background": "light"
     },
     "output_type": "display_data"
    }
   ],
   "source": [
    "PlotQuadraticModel(quaddata, \"high\")"
   ]
  },
  {
   "cell_type": "markdown",
   "id": "55ff35ff",
   "metadata": {},
   "source": [
    "##### Quadratic Predictions\n",
    "\n",
    "Using the formulas outlined in the book, and adjusting them to take our quadratic model."
   ]
  },
  {
   "cell_type": "code",
   "execution_count": 11,
   "id": "10123751",
   "metadata": {},
   "outputs": [],
   "source": [
    "def PlotPredictions(daily, years, iters=101, percent=90, func=RunQuadraticModel):\n",
    "    \"\"\"Plots predictions.\n",
    "\n",
    "    daily: DataFrame of daily prices\n",
    "    years: sequence of times (in years) to make predictions for\n",
    "    iters: number of simulations\n",
    "    percent: what percentile range to show\n",
    "    func: function that fits a model to the data\n",
    "    \"\"\"\n",
    "    result_seq = SimulateResults(daily, iters=iters, func=func)\n",
    "    p = (100 - percent) / 2\n",
    "    percents = p, 100 - p\n",
    "\n",
    "    predict_seq = GeneratePredictions(result_seq, years, add_resid=True)\n",
    "    low, high = thinkstats2.PercentileRows(predict_seq, percents)\n",
    "    thinkplot.FillBetween(years, low, high, alpha=0.3, color=\"gray\")\n",
    "\n",
    "    predict_seq = GeneratePredictions(result_seq, years, add_resid=False)\n",
    "    low, high = thinkstats2.PercentileRows(predict_seq, percents)\n",
    "    thinkplot.FillBetween(years, low, high, alpha=0.5, color=\"gray\")"
   ]
  },
  {
   "cell_type": "code",
   "execution_count": 12,
   "id": "4438196b",
   "metadata": {},
   "outputs": [],
   "source": [
    "def GeneratePredictions(result_seq, years, add_resid=False):\n",
    "    \"\"\"Generates an array of predicted values from a list of model results.\n",
    "\n",
    "    When add_resid is False, predictions represent sampling error only.\n",
    "\n",
    "    When add_resid is True, they also include residual error (which is\n",
    "    more relevant to prediction).\n",
    "\n",
    "    result_seq: list of model results\n",
    "    years: sequence of times (in years) to make predictions for\n",
    "    add_resid: boolean, whether to add in resampled residuals\n",
    "\n",
    "    returns: sequence of predictions\n",
    "    \"\"\"\n",
    "    n = len(years)\n",
    "    d = dict(Intercept=np.ones(n), years=years, years2=years**2)\n",
    "    predict_df = pd.DataFrame(d)\n",
    "\n",
    "    predict_seq = []\n",
    "    for fake_results in result_seq:\n",
    "        predict = fake_results.predict(predict_df)\n",
    "        if add_resid:\n",
    "            predict += thinkstats2.Resample(fake_results.resid, n)\n",
    "        predict_seq.append(predict)\n",
    "\n",
    "    return predict_seq"
   ]
  },
  {
   "cell_type": "code",
   "execution_count": 13,
   "id": "36b26a92",
   "metadata": {},
   "outputs": [],
   "source": [
    "def SimulateResults(daily, iters=101, func=RunQuadraticModel):\n",
    "    \"\"\"Run simulations based on resampling residuals.\n",
    "\n",
    "    daily: DataFrame of daily prices\n",
    "    iters: number of simulations\n",
    "    func: function that fits a model to the data\n",
    "\n",
    "    returns: list of result objects\n",
    "    \"\"\"\n",
    "    _, results = func(daily)\n",
    "    fake = daily.copy()\n",
    "\n",
    "    result_seq = []\n",
    "    for _ in range(iters):\n",
    "        fake.ppg = results.fittedvalues + thinkstats2.Resample(results.resid)\n",
    "        _, fake_results = func(fake)\n",
    "        result_seq.append(fake_results)\n",
    "\n",
    "    return result_seq"
   ]
  },
  {
   "cell_type": "code",
   "execution_count": 14,
   "id": "ccc7cac2",
   "metadata": {
    "scrolled": false
   },
   "outputs": [
    {
     "data": {
      "image/png": "[encoded data removed]",
      "text/plain": [
       "<Figure size 432x288 with 1 Axes>"
      ]
     },
     "metadata": {
      "needs_background": "light"
     },
     "output_type": "display_data"
    }
   ],
   "source": [
    "years = np.linspace(0, 5, 101)\n",
    "thinkplot.Scatter(quaddata.years, quaddata.ppg, alpha=0.1, label=\"high\")\n",
    "PlotPredictions(quaddata, years)\n",
    "xlim = years[0] - 0.1, years[-1] + 0.1\n",
    "thinkplot.Config(\n",
    "    title=\"Predictions\", xlabel=\"Years\", xlim=xlim, ylabel=\"Price per gram ($)\"\n",
    ")"
   ]
  },
  {
   "cell_type": "markdown",
   "id": "b345f91d",
   "metadata": {},
   "source": [
    "Because of the quadratic model, we are now seeing the possibility of an increase in price coming in the future.  The linear model showed predictions with a downward slope.  These predictions don't account for possible changes in the environment.  They're based on what has occured in the past. The book rightly points out that changes in laws could change prices in ways that this model could not predict."
   ]
  },
  {
   "cell_type": "markdown",
   "id": "77cbc58f",
   "metadata": {},
   "source": [
    "# Exercise 12-2\n",
    "\n",
    "Building a class called \"SerialCorrelationTest()\" base on the tests from the \"Hypothesis Test\" section of the book (pg 102).  The author's solution was very instructive in showing how to do this.  I researched further into how these formulas work.  (See sources as listed.) \\\n",
    "    - TestStatistic() uses the SerialCorr() function provided to find the correlation coefficient.  We take the absolute value because we want to test the strength of the linear relationship.  We don't care about the direction of the slope of the line. \\\n",
    "    (Source: https://ellaudet.iq.harvard.edu/correlation) \\\n",
    "    - RunModel() uses reindex() and np.random.permutation() to take the data set and shuffle it into a random order.  This creates the null hypothesis set to compare against... a set where sequential values shouldn't have any relationship. \\\n",
    "    (Source: https://www.geeksforgeeks.org/reindexing-in-pandas-dataframe/)"
   ]
  },
  {
   "cell_type": "code",
   "execution_count": 15,
   "id": "be358b4d",
   "metadata": {},
   "outputs": [],
   "source": [
    "class SerialCorrelationTest(thinkstats2.HypothesisTest):\n",
    "    \n",
    "    def TestStatistic(self, data):\n",
    "        series, lag = data\n",
    "        test_stat = abs(SerialCorr(series, lag))\n",
    "        return test_stat\n",
    "    \n",
    "    def RunModel(self):\n",
    "        series,  lag = self.data\n",
    "        permutation = series.reindex(np.random.permutation(series.index))\n",
    "        return permutation, lag"
   ]
  },
  {
   "cell_type": "markdown",
   "id": "321bb7c0",
   "metadata": {},
   "source": [
    "We use the SerialCorr() formula from the text.  It brings the series into the 'xs' and uses the \"shift()\" function to assign the corresponding 'ys' the shifted value, and returns the correlation coefficient."
   ]
  },
  {
   "cell_type": "code",
   "execution_count": 16,
   "id": "8e56c140",
   "metadata": {},
   "outputs": [],
   "source": [
    "def SerialCorr(series, lag=1):\n",
    "    xs = series[lag:]\n",
    "    ys = series.shift(lag)[lag:]\n",
    "    corr = thinkstats2.Corr(xs, ys)\n",
    "    return corr"
   ]
  },
  {
   "cell_type": "markdown",
   "id": "95504003",
   "metadata": {},
   "source": [
    "Our \"quaddata\" set from above is set to give us the \"high\" quality group of prices per gram.  We'll feed that through our new formulas to test the original \"quaddata\" set of \"ppg\" against a randomized set, to see \n"
   ]
  },
  {
   "cell_type": "code",
   "execution_count": 17,
   "id": "95dd2745",
   "metadata": {},
   "outputs": [
    {
     "name": "stdout",
     "output_type": "stream",
     "text": [
      "0.4852293761947379 0.0\n"
     ]
    }
   ],
   "source": [
    "series = quaddata.ppg\n",
    "test = SerialCorrelationTest((series,1))\n",
    "pvalue = test.PValue()\n",
    "print(test.actual, pvalue)"
   ]
  },
  {
   "cell_type": "markdown",
   "id": "22894852",
   "metadata": {},
   "source": [
    "The serial correlation is 0.485, and the p-value is 0, which means that it is very unlikely that the strong correlation occurred by chance.\n",
    "\n",
    "Next, we will test the correlation in the residuals of the linear model.  We haven't defined the linear model yet, so I will bring that in from our text.  We'll run the Linear model and find the residuals.  We'll use those residuals as the series for our hypothesis test."
   ]
  },
  {
   "cell_type": "code",
   "execution_count": 18,
   "id": "71c5d43f",
   "metadata": {},
   "outputs": [],
   "source": [
    "def RunLinearModel(daily):\n",
    "    model = smf.ols(\"ppg ~ years\", data=daily)\n",
    "    results = model.fit()\n",
    "    return model, results"
   ]
  },
  {
   "cell_type": "code",
   "execution_count": 19,
   "id": "f432369c",
   "metadata": {},
   "outputs": [
    {
     "name": "stdout",
     "output_type": "stream",
     "text": [
      "0.07570473767506257 0.01\n"
     ]
    }
   ],
   "source": [
    "model, results = RunLinearModel(quaddata)\n",
    "series = results.resid\n",
    "test = SerialCorrelationTest((series, 1))\n",
    "pvalue = test.PValue()\n",
    "print(test.actual, pvalue)"
   ]
  },
  {
   "cell_type": "markdown",
   "id": "0f84a249",
   "metadata": {},
   "source": [
    "The strength of the correlation is less strong (.076), but the P-value of the null hypothesis remains low, so it is unlikely that the correlation occured by chance.\n",
    "\n",
    "Finally, we'll use the quadratic model we created above to test the residuals for that."
   ]
  },
  {
   "cell_type": "code",
   "execution_count": 20,
   "id": "027aa2f9",
   "metadata": {},
   "outputs": [
    {
     "name": "stdout",
     "output_type": "stream",
     "text": [
      "0.05607308161289917 0.046\n"
     ]
    }
   ],
   "source": [
    "model, results = RunQuadraticModel(quaddata)\n",
    "series = results.resid\n",
    "test = SerialCorrelationTest((series, 1))\n",
    "pvalue = test.PValue()\n",
    "print(test.actual, pvalue)"
   ]
  },
  {
   "cell_type": "markdown",
   "id": "65e23dc8",
   "metadata": {},
   "source": [
    "Similar to the linear model, the correlation coefficient is low (0.056).  The P-value is slightly above 5% (.059), so there is a slight chance that it would be appropriate to accept the null hypothesis.  It depends on what threshold was set at the beginning of the analysis."
   ]
  }
 ],
 "metadata": {
  "kernelspec": {
   "display_name": "Python 3",
   "language": "python",
   "name": "python3"
  },
  "language_info": {
   "codemirror_mode": {
    "name": "ipython",
    "version": 3
   },
   "file_extension": ".py",
   "mimetype": "text/x-python",
   "name": "python",
   "nbconvert_exporter": "python",
   "pygments_lexer": "ipython3",
   "version": "3.8.8"
  }
 },
 "nbformat": 4,
 "nbformat_minor": 5
}
