{
 "cells": [
  {
   "cell_type": "markdown",
   "id": "a6d16b8a",
   "metadata": {},
   "source": [
    "* DSC530: Week 4\n",
    "* 4.2 Exercise\n",
    "* Marty Hoehler\n",
    "* 4-7-24\n",
    "\n",
    "# Exercise 3-1"
   ]
  },
  {
   "cell_type": "markdown",
   "id": "65d0645d",
   "metadata": {},
   "source": [
    "First, we'll use code from previous weeks to import the data.  "
   ]
  },
  {
   "cell_type": "code",
   "execution_count": 6,
   "id": "2d94230d",
   "metadata": {},
   "outputs": [],
   "source": [
    "import numpy as np\n",
    "\n",
    "from os.path import basename, exists\n",
    "\n",
    "def download(url):\n",
    "    filename = basename(url)\n",
    "    if not exists(filename):\n",
    "        from urllib.request import urlretrieve\n",
    "\n",
    "        local, _ = urlretrieve(url, filename)\n",
    "        print(\"Downloaded \" + local)\n",
    "\n",
    "download(\"https://github.com/AllenDowney/ThinkStats2/raw/master/code/thinkstats2.py\")\n",
    "download(\"https://github.com/AllenDowney/ThinkStats2/raw/master/code/thinkplot.py\")\n",
    "download(\"https://github.com/AllenDowney/ThinkStats2/raw/master/code/nsfg.py\")\n",
    "download(\"https://github.com/AllenDowney/ThinkStats2/raw/master/code/2002FemResp.dct\")\n",
    "download(\"https://github.com/AllenDowney/ThinkStats2/raw/master/code/2002FemResp.dat.gz\")"
   ]
  },
  {
   "cell_type": "code",
   "execution_count": 7,
   "id": "0b2d766c",
   "metadata": {},
   "outputs": [],
   "source": [
    "import nsfg\n",
    "resp = nsfg.ReadFemResp()"
   ]
  },
  {
   "cell_type": "markdown",
   "id": "6412cbff",
   "metadata": {},
   "source": [
    "Next, we'll do some exploration of the \"numkdhh\" value to understand it a bit better."
   ]
  },
  {
   "cell_type": "code",
   "execution_count": 8,
   "id": "1ad300a1",
   "metadata": {},
   "outputs": [
    {
     "data": {
      "text/plain": [
       "0    3563\n",
       "1    1636\n",
       "2    1500\n",
       "3     666\n",
       "4     196\n",
       "5      82\n",
       "Name: numkdhh, dtype: int64"
      ]
     },
     "execution_count": 8,
     "metadata": {},
     "output_type": "execute_result"
    }
   ],
   "source": [
    "resp.numkdhh.value_counts().sort_index()"
   ]
  },
  {
   "cell_type": "markdown",
   "id": "58064a07",
   "metadata": {},
   "source": [
    "From these numbers, we can see where bias would set in if we interviewed a random number of children.  The 3563 families that have 0 children would never be sampled.  We'll use the thinkplot functions from the text to create the pmf of these values.\n"
   ]
  },
  {
   "cell_type": "code",
   "execution_count": 15,
   "id": "a5238cc4",
   "metadata": {},
   "outputs": [
    {
     "name": "stdout",
     "output_type": "stream",
     "text": [
      "actual mean 1.024205155043831\n"
     ]
    }
   ],
   "source": [
    "import thinkstats2\n",
    "actual_pmf = thinkstats2.Pmf(resp.numkdhh, label='actual')\n",
    "print('actual mean', actual_pmf.Mean())"
   ]
  },
  {
   "cell_type": "markdown",
   "id": "7db9a1e9",
   "metadata": {},
   "source": [
    "Next, we'll use the method in the text to create a biased histogram that simulates what we would see if we surveyed children and asked them the number of children in their family.  This \"BiasPMF()\" function, taken from the text, will create the biased pmf."
   ]
  },
  {
   "cell_type": "code",
   "execution_count": 16,
   "id": "954ce366",
   "metadata": {},
   "outputs": [],
   "source": [
    "def BiasPmf(pmf, label):\n",
    "    new_pmf = pmf.Copy(label=label)\n",
    "    \n",
    "    for x, p in pmf.Items():\n",
    "        new_pmf.Mult(x, x)\n",
    "        \n",
    "    new_pmf.Normalize()\n",
    "    return new_pmf"
   ]
  },
  {
   "cell_type": "markdown",
   "id": "b0829638",
   "metadata": {},
   "source": [
    "Now that we have the function, we'll use it to create the biased pmf and find the mean."
   ]
  },
  {
   "cell_type": "code",
   "execution_count": 18,
   "id": "f04b010a",
   "metadata": {},
   "outputs": [
    {
     "name": "stdout",
     "output_type": "stream",
     "text": [
      "biased mean 2.403679100664282\n"
     ]
    }
   ],
   "source": [
    "biased_pmf = BiasPmf(actual_pmf, label = 'observed')\n",
    "print('biased mean', biased_pmf.Mean())"
   ]
  },
  {
   "cell_type": "markdown",
   "id": "fc8e1f9c",
   "metadata": {},
   "source": [
    "We can see that the biased mean is much higher than the actual mean."
   ]
  },
  {
   "cell_type": "code",
   "execution_count": 23,
   "id": "fdb53597",
   "metadata": {
    "scrolled": true
   },
   "outputs": [
    {
     "data": {
      "image/png": "[encoded data removed]",
      "text/plain": [
       "<Figure size 432x288 with 1 Axes>"
      ]
     },
     "metadata": {
      "needs_background": "light"
     },
     "output_type": "display_data"
    },
    {
     "data": {
      "text/plain": [
       "<Figure size 576x432 with 0 Axes>"
      ]
     },
     "metadata": {},
     "output_type": "display_data"
    }
   ],
   "source": [
    "import thinkplot\n",
    "\n",
    "thinkplot.PrePlot(2)\n",
    "thinkplot.Pmfs([actual_pmf, biased_pmf])\n",
    "thinkplot.Show(xlabel='# of children',ylabel='PMF')"
   ]
  },
  {
   "cell_type": "markdown",
   "id": "63c39b8d",
   "metadata": {},
   "source": [
    "As expected, the 'observed' line has no responses from families with 0 children."
   ]
  },
  {
   "cell_type": "markdown",
   "id": "bc21a534",
   "metadata": {},
   "source": [
    "# Exercise 3-2\n",
    "\n",
    "Creating functions for mean and variance - \n",
    " - I used this site for help with the loop in the code:\n",
    "-  https://stackoverflow.com/questions/49998584/how-to-use-a-for-loop-to-calculate-mean-of-list-of-numbers-python"
   ]
  },
  {
   "cell_type": "code",
   "execution_count": 48,
   "id": "a833a23a",
   "metadata": {},
   "outputs": [],
   "source": [
    "def PmfMean(pmf):\n",
    "    total = 0\n",
    "    for x, p in pmf.Items():\n",
    "        total = total + (p * x)                    \n",
    "    return total"
   ]
  },
  {
   "cell_type": "code",
   "execution_count": 49,
   "id": "7059cb68",
   "metadata": {},
   "outputs": [
    {
     "data": {
      "text/plain": [
       "1.024205155043831"
      ]
     },
     "execution_count": 49,
     "metadata": {},
     "output_type": "execute_result"
    }
   ],
   "source": [
    "PmfMean(actual_pmf)"
   ]
  },
  {
   "cell_type": "code",
   "execution_count": 50,
   "id": "3a0149f9",
   "metadata": {},
   "outputs": [
    {
     "data": {
      "text/plain": [
       "2.403679100664282"
      ]
     },
     "execution_count": 50,
     "metadata": {},
     "output_type": "execute_result"
    }
   ],
   "source": [
    "PmfMean(biased_pmf)"
   ]
  },
  {
   "cell_type": "markdown",
   "id": "57ada5c9",
   "metadata": {},
   "source": [
    "These agree with the means calculated in Exercise 3-1.  Next, we'll create a similar funciton for variance."
   ]
  },
  {
   "cell_type": "code",
   "execution_count": 53,
   "id": "897ee510",
   "metadata": {},
   "outputs": [],
   "source": [
    "def PmfVar(pmf):\n",
    "    total = 0\n",
    "    for x, p in pmf.Items():\n",
    "        total = total + (p * ((x - PmfMean(pmf))**2))\n",
    "    return total"
   ]
  },
  {
   "cell_type": "code",
   "execution_count": 54,
   "id": "3d140758",
   "metadata": {},
   "outputs": [
    {
     "data": {
      "text/plain": [
       "1.4128643263531195"
      ]
     },
     "execution_count": 54,
     "metadata": {},
     "output_type": "execute_result"
    }
   ],
   "source": [
    "PmfVar(actual_pmf)"
   ]
  },
  {
   "cell_type": "code",
   "execution_count": 55,
   "id": "1043a8e8",
   "metadata": {},
   "outputs": [
    {
     "name": "stdout",
     "output_type": "stream",
     "text": [
      "actual variance 1.4128643263531195\n"
     ]
    }
   ],
   "source": [
    "print('actual variance', actual_pmf.Var())"
   ]
  },
  {
   "cell_type": "code",
   "execution_count": 56,
   "id": "f168a418",
   "metadata": {},
   "outputs": [
    {
     "data": {
      "text/plain": [
       "1.1732721055059874"
      ]
     },
     "execution_count": 56,
     "metadata": {},
     "output_type": "execute_result"
    }
   ],
   "source": [
    "PmfVar(biased_pmf)"
   ]
  },
  {
   "cell_type": "code",
   "execution_count": 57,
   "id": "c66c8c9b",
   "metadata": {},
   "outputs": [
    {
     "name": "stdout",
     "output_type": "stream",
     "text": [
      "biased variance 1.1732721055059874\n"
     ]
    }
   ],
   "source": [
    "print('biased variance', biased_pmf.Var())"
   ]
  },
  {
   "cell_type": "markdown",
   "id": "7befd86f",
   "metadata": {},
   "source": [
    "This shows that the `PmfVar()` function we created function gives the same result as pmf.Var()."
   ]
  },
  {
   "cell_type": "markdown",
   "id": "5ec6184a",
   "metadata": {},
   "source": [
    "# Exercise 3-1"
   ]
  }
 ],
 "metadata": {
  "kernelspec": {
   "display_name": "Python 3",
   "language": "python",
   "name": "python3"
  },
  "language_info": {
   "codemirror_mode": {
    "name": "ipython",
    "version": 3
   },
   "file_extension": ".py",
   "mimetype": "text/x-python",
   "name": "python",
   "nbconvert_exporter": "python",
   "pygments_lexer": "ipython3",
   "version": "3.8.8"
  }
 },
 "nbformat": 4,
 "nbformat_minor": 5
}
