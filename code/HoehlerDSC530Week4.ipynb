{
 "cells": [
  {
   "cell_type": "markdown",
   "id": "0ed8c395",
   "metadata": {},
   "source": [
    "* DSC530: Week 4\n",
    "* 4.2 Exercise\n",
    "* Marty Hoehler\n",
    "* 4-7-24\n",
    "\n",
    "# Exercise 3-1"
   ]
  },
  {
   "cell_type": "markdown",
   "id": "8dd641b5",
   "metadata": {},
   "source": [
    "First, we'll use code from previous weeks to import the data.  "
   ]
  },
  {
   "cell_type": "code",
   "execution_count": 1,
   "id": "7e54a5d3",
   "metadata": {},
   "outputs": [],
   "source": [
    "import numpy as np\n",
    "\n",
    "from os.path import basename, exists\n",
    "\n",
    "def download(url):\n",
    "    filename = basename(url)\n",
    "    if not exists(filename):\n",
    "        from urllib.request import urlretrieve\n",
    "\n",
    "        local, _ = urlretrieve(url, filename)\n",
    "        print(\"Downloaded \" + local)\n",
    "\n",
    "download(\"https://github.com/AllenDowney/ThinkStats2/raw/master/code/thinkstats2.py\")\n",
    "download(\"https://github.com/AllenDowney/ThinkStats2/raw/master/code/thinkplot.py\")\n",
    "download(\"https://github.com/AllenDowney/ThinkStats2/raw/master/code/nsfg.py\")\n",
    "download(\"https://github.com/AllenDowney/ThinkStats2/raw/master/code/2002FemResp.dct\")\n",
    "download(\"https://github.com/AllenDowney/ThinkStats2/raw/master/code/2002FemResp.dat.gz\")"
   ]
  },
  {
   "cell_type": "code",
   "execution_count": 2,
   "id": "ac201d45",
   "metadata": {},
   "outputs": [],
   "source": [
    "import nsfg\n",
    "resp = nsfg.ReadFemResp()"
   ]
  },
  {
   "cell_type": "markdown",
   "id": "14601cea",
   "metadata": {},
   "source": [
    "Next, we'll do some exploration of the \"numkdhh\" value to understand it a bit better."
   ]
  },
  {
   "cell_type": "code",
   "execution_count": 3,
   "id": "8f5076a5",
   "metadata": {},
   "outputs": [
    {
     "data": {
      "text/plain": [
       "0    3563\n",
       "1    1636\n",
       "2    1500\n",
       "3     666\n",
       "4     196\n",
       "5      82\n",
       "Name: numkdhh, dtype: int64"
      ]
     },
     "execution_count": 3,
     "metadata": {},
     "output_type": "execute_result"
    }
   ],
   "source": [
    "resp.numkdhh.value_counts().sort_index()"
   ]
  },
  {
   "cell_type": "markdown",
   "id": "1d7efceb",
   "metadata": {},
   "source": [
    "From these numbers, we can see where bias would set in if we interviewed a random number of children.  The 3563 families that have 0 children would never be sampled.  We'll use the thinkplot functions from the text to create the pmf of these values.\n"
   ]
  },
  {
   "cell_type": "code",
   "execution_count": 4,
   "id": "d4d5a8a4",
   "metadata": {},
   "outputs": [
    {
     "name": "stdout",
     "output_type": "stream",
     "text": [
      "actual mean 1.024205155043831\n"
     ]
    }
   ],
   "source": [
    "import thinkstats2\n",
    "actual_pmf = thinkstats2.Pmf(resp.numkdhh, label='actual')\n",
    "print('actual mean', actual_pmf.Mean())"
   ]
  },
  {
   "cell_type": "markdown",
   "id": "467319d3",
   "metadata": {},
   "source": [
    "Next, we'll use the method in the text to create a biased histogram that simulates what we would see if we surveyed children and asked them the number of children in their family.  This \"BiasPMF()\" function, taken from the text, will create the biased pmf."
   ]
  },
  {
   "cell_type": "code",
   "execution_count": 5,
   "id": "77d5e3f7",
   "metadata": {},
   "outputs": [],
   "source": [
    "def BiasPmf(pmf, label):\n",
    "    new_pmf = pmf.Copy(label=label)\n",
    "    \n",
    "    for x, p in pmf.Items():\n",
    "        new_pmf.Mult(x, x)\n",
    "        \n",
    "    new_pmf.Normalize()\n",
    "    return new_pmf"
   ]
  },
  {
   "cell_type": "markdown",
   "id": "4c1e6a7b",
   "metadata": {},
   "source": [
    "Now that we have the function, we'll use it to create the biased pmf and find the mean."
   ]
  },
  {
   "cell_type": "code",
   "execution_count": 6,
   "id": "e9a9a04c",
   "metadata": {},
   "outputs": [
    {
     "name": "stdout",
     "output_type": "stream",
     "text": [
      "biased mean 2.403679100664282\n"
     ]
    }
   ],
   "source": [
    "biased_pmf = BiasPmf(actual_pmf, label = 'observed')\n",
    "print('biased mean', biased_pmf.Mean())"
   ]
  },
  {
   "cell_type": "markdown",
   "id": "935194dc",
   "metadata": {},
   "source": [
    "We can see that the biased mean is much higher than the actual mean."
   ]
  },
  {
   "cell_type": "code",
   "execution_count": 7,
   "id": "b2405c91",
   "metadata": {
    "scrolled": true
   },
   "outputs": [
    {
     "data": {
      "image/png": "[encoded data removed]",
      "text/plain": [
       "<Figure size 432x288 with 1 Axes>"
      ]
     },
     "metadata": {
      "needs_background": "light"
     },
     "output_type": "display_data"
    },
    {
     "data": {
      "text/plain": [
       "<Figure size 576x432 with 0 Axes>"
      ]
     },
     "metadata": {},
     "output_type": "display_data"
    }
   ],
   "source": [
    "import thinkplot\n",
    "\n",
    "thinkplot.PrePlot(2)\n",
    "thinkplot.Pmfs([actual_pmf, biased_pmf])\n",
    "thinkplot.Show(xlabel='# of children',ylabel='PMF')"
   ]
  },
  {
   "cell_type": "markdown",
   "id": "66860324",
   "metadata": {},
   "source": [
    "As expected, the 'observed' line has no responses from families with 0 children."
   ]
  },
  {
   "cell_type": "markdown",
   "id": "fe0a1b6c",
   "metadata": {},
   "source": [
    "# Exercise 3-2\n",
    "\n",
    "Creating functions for mean and variance - \n",
    " - I used this site for help with the loop in the code:\n",
    "-  https://stackoverflow.com/questions/49998584/how-to-use-a-for-loop-to-calculate-mean-of-list-of-numbers-python"
   ]
  },
  {
   "cell_type": "code",
   "execution_count": 8,
   "id": "ddb8fddc",
   "metadata": {},
   "outputs": [],
   "source": [
    "def PmfMean(pmf):\n",
    "    total = 0\n",
    "    for x, p in pmf.Items():\n",
    "        total = total + (p * x)                    \n",
    "    return total"
   ]
  },
  {
   "cell_type": "code",
   "execution_count": 9,
   "id": "da894dcb",
   "metadata": {},
   "outputs": [
    {
     "data": {
      "text/plain": [
       "1.024205155043831"
      ]
     },
     "execution_count": 9,
     "metadata": {},
     "output_type": "execute_result"
    }
   ],
   "source": [
    "PmfMean(actual_pmf)"
   ]
  },
  {
   "cell_type": "code",
   "execution_count": 10,
   "id": "df1f41a3",
   "metadata": {},
   "outputs": [
    {
     "data": {
      "text/plain": [
       "2.403679100664282"
      ]
     },
     "execution_count": 10,
     "metadata": {},
     "output_type": "execute_result"
    }
   ],
   "source": [
    "PmfMean(biased_pmf)"
   ]
  },
  {
   "cell_type": "markdown",
   "id": "2f248c3e",
   "metadata": {},
   "source": [
    "These agree with the means calculated in Exercise 3-1.  Next, we'll create a similar funciton for variance."
   ]
  },
  {
   "cell_type": "code",
   "execution_count": 11,
   "id": "7153595e",
   "metadata": {},
   "outputs": [],
   "source": [
    "def PmfVar(pmf):\n",
    "    total = 0\n",
    "    for x, p in pmf.Items():\n",
    "        total = total + (p * ((x - PmfMean(pmf))**2))\n",
    "    return total"
   ]
  },
  {
   "cell_type": "code",
   "execution_count": 12,
   "id": "733b89f6",
   "metadata": {},
   "outputs": [
    {
     "data": {
      "text/plain": [
       "1.4128643263531195"
      ]
     },
     "execution_count": 12,
     "metadata": {},
     "output_type": "execute_result"
    }
   ],
   "source": [
    "PmfVar(actual_pmf)"
   ]
  },
  {
   "cell_type": "code",
   "execution_count": 13,
   "id": "1a3c69c0",
   "metadata": {},
   "outputs": [
    {
     "name": "stdout",
     "output_type": "stream",
     "text": [
      "actual variance 1.4128643263531195\n"
     ]
    }
   ],
   "source": [
    "print('actual variance', actual_pmf.Var())"
   ]
  },
  {
   "cell_type": "code",
   "execution_count": 14,
   "id": "a6ca9654",
   "metadata": {},
   "outputs": [
    {
     "data": {
      "text/plain": [
       "1.1732721055059874"
      ]
     },
     "execution_count": 14,
     "metadata": {},
     "output_type": "execute_result"
    }
   ],
   "source": [
    "PmfVar(biased_pmf)"
   ]
  },
  {
   "cell_type": "code",
   "execution_count": 15,
   "id": "5e460b86",
   "metadata": {},
   "outputs": [
    {
     "name": "stdout",
     "output_type": "stream",
     "text": [
      "biased variance 1.1732721055059874\n"
     ]
    }
   ],
   "source": [
    "print('biased variance', biased_pmf.Var())"
   ]
  },
  {
   "cell_type": "markdown",
   "id": "6ffa2278",
   "metadata": {},
   "source": [
    "This shows that the `PmfVar()` function we created function gives the same result as pmf.Var()."
   ]
  },
  {
   "cell_type": "markdown",
   "id": "942698bd",
   "metadata": {},
   "source": [
    "# Exercise 4-1"
   ]
  },
  {
   "cell_type": "code",
   "execution_count": 16,
   "id": "af1810b9",
   "metadata": {},
   "outputs": [
    {
     "data": {
      "image/png": "[encoded data removed]",
      "text/plain": [
       "<Figure size 432x288 with 1 Axes>"
      ]
     },
     "metadata": {
      "needs_background": "light"
     },
     "output_type": "display_data"
    },
    {
     "data": {
      "text/plain": [
       "<Figure size 576x432 with 0 Axes>"
      ]
     },
     "metadata": {},
     "output_type": "display_data"
    }
   ],
   "source": [
    "# First, we need to import the pregnancy table and filter it for live births, first children and other,\n",
    "#like we did last week.\n",
    "\n",
    "preg = nsfg.ReadFemPreg()\n",
    "live = preg[preg.outcome == 1]\n",
    "firsts = live[live.birthord == 1]\n",
    "others = live[live.birthord !=1]\n",
    "\n",
    "# For exploration, we'll take a look at the cdf of the live births.\n",
    "\n",
    "cdf_live = thinkstats2.Cdf(live.totalwgt_lb, label = 'totalwgt_lb')\n",
    "thinkplot.Cdf(cdf_live)\n",
    "thinkplot.Show(xlabel='lbs', ylabel ='CDF')"
   ]
  },
  {
   "cell_type": "code",
   "execution_count": 17,
   "id": "0bd18bd1",
   "metadata": {},
   "outputs": [
    {
     "data": {
      "text/plain": [
       "0.8406727152024784"
      ]
     },
     "execution_count": 17,
     "metadata": {},
     "output_type": "execute_result"
    }
   ],
   "source": [
    "# According to my Mom, I was about 8.5 lbs.  From the looks of the graph, I'm on the border of needing to apologize.  \n",
    "# We'll use the thinkstats2 Cdf functions to find exactly where that probability falls.\n",
    "\n",
    "thinkstats2.Cdf.Prob(cdf_live, 8.5)"
   ]
  },
  {
   "cell_type": "code",
   "execution_count": 18,
   "id": "f255ed28",
   "metadata": {},
   "outputs": [
    {
     "data": {
      "text/plain": [
       "0.8235294117647058"
      ]
     },
     "execution_count": 18,
     "metadata": {},
     "output_type": "execute_result"
    }
   ],
   "source": [
    "# I was in the 84th percentile of live births.  \n",
    "# I'm the middle of 5 children, so lets see where I rank with the \"other\" group.\n",
    "\n",
    "cdf_others = thinkstats2.Cdf(others.totalwgt_lb, label = 'totalwgt_lb')\n",
    "thinkstats2.Cdf.Prob(cdf_others, 8.5)"
   ]
  },
  {
   "cell_type": "code",
   "execution_count": 19,
   "id": "1920213b",
   "metadata": {},
   "outputs": [],
   "source": [
    "# This shows I was in the 82nd percentile of non-firstborn children."
   ]
  },
  {
   "cell_type": "markdown",
   "id": "63151e5e",
   "metadata": {},
   "source": [
    "# Exercise 4-2"
   ]
  },
  {
   "cell_type": "code",
   "execution_count": 22,
   "id": "7444798e",
   "metadata": {},
   "outputs": [],
   "source": [
    "# First, we'll import the numpy library to give us the random function.  \n",
    "# We'll use it to give us an array of 1000 random numbers.\n",
    "\n",
    "import numpy\n",
    "rand_array = numpy.random.random(size = 1000)\n",
    "rand_PMF = thinkstats2.Pmf(rand_array, label = 'random_PDF')\n",
    "rand_CDF = thinkstats2.Cdf(rand_array, label = 'random_CDF')"
   ]
  },
  {
   "cell_type": "code",
   "execution_count": 23,
   "id": "ab6913bb",
   "metadata": {
    "scrolled": true
   },
   "outputs": [
    {
     "data": {
      "image/png": "[encoded data removed]",
      "text/plain": [
       "<Figure size 432x288 with 1 Axes>"
      ]
     },
     "metadata": {
      "needs_background": "light"
     },
     "output_type": "display_data"
    },
    {
     "data": {
      "text/plain": [
       "<Figure size 576x432 with 0 Axes>"
      ]
     },
     "metadata": {},
     "output_type": "display_data"
    }
   ],
   "source": [
    "thinkplot.Pmfs([rand_PMF])\n",
    "thinkplot.Show(xlabel='random values', ylabel='PMF')"
   ]
  },
  {
   "cell_type": "code",
   "execution_count": null,
   "id": "3fdcd93a",
   "metadata": {},
   "outputs": [],
   "source": [
    "# This PDF shows that the probability for each of the thousand values that occured in our random sample was 1 in a thousand.\n",
    "# This is one way of showing that the random function was uniformly distributes."
   ]
  },
  {
   "cell_type": "code",
   "execution_count": 25,
   "id": "d8886bb1",
   "metadata": {
    "scrolled": false
   },
   "outputs": [
    {
     "data": {
      "image/png": "[encoded data removed]",
      "text/plain": [
       "<Figure size 432x288 with 1 Axes>"
      ]
     },
     "metadata": {
      "needs_background": "light"
     },
     "output_type": "display_data"
    },
    {
     "data": {
      "text/plain": [
       "<Figure size 576x432 with 0 Axes>"
      ]
     },
     "metadata": {},
     "output_type": "display_data"
    }
   ],
   "source": [
    "thinkplot.Cdf(rand_CDF)\n",
    "thinkplot.Show(xlabel='random values', ylabel='CDF')"
   ]
  },
  {
   "cell_type": "code",
   "execution_count": null,
   "id": "7979d94f",
   "metadata": {},
   "outputs": [],
   "source": [
    "# This CDF shows a straight line accumulated probability from zero to one.  \n",
    "# Straight lines in a CDF indicate a uniform distribution."
   ]
  }
 ],
 "metadata": {
  "kernelspec": {
   "display_name": "Python 3",
   "language": "python",
   "name": "python3"
  },
  "language_info": {
   "codemirror_mode": {
    "name": "ipython",
    "version": 3
   },
   "file_extension": ".py",
   "mimetype": "text/x-python",
   "name": "python",
   "nbconvert_exporter": "python",
   "pygments_lexer": "ipython3",
   "version": "3.8.8"
  }
 },
 "nbformat": 4,
 "nbformat_minor": 5
}
